{
 "cells": [
  {
   "cell_type": "markdown",
   "metadata": {},
   "source": [
    "# multiprocessing\n"
   ]
  },
  {
   "cell_type": "markdown",
   "metadata": {},
   "source": [
    "note: use `multiprocess` for better compatibility with jupyter notebook. works the same as `multiprocessing` but with some minor additional features.\n",
    "\n",
    "each worker process dynamically gets new tasks from a queue and the main process waits for all workers to finish their tasks.\n",
    "\n",
    "chunks may be executed by one process only. it depends on who is fastest. pick a reasonable chunk size such that there is good load balancing and little process creation/destruction overhead in comparison to the actual work.\n",
    "\n",
    "pool functions:\n",
    "\n",
    "- `map` - apply function to each element of a list. block until _all_ tasks are done.\n",
    "- `starmap` - same but with multiple arguments.\n",
    "- `imap` - same but works as a generator. block until _each_ task is done.\n",
    "- ..."
   ]
  },
  {
   "cell_type": "code",
   "execution_count": 44,
   "metadata": {},
   "outputs": [
    {
     "name": "stdout",
     "output_type": "stream",
     "text": [
      "Requirement already satisfied: multiprocess in /opt/homebrew/lib/python3.11/site-packages (0.70.16)\n",
      "Requirement already satisfied: dill>=0.3.8 in /opt/homebrew/lib/python3.11/site-packages (from multiprocess) (0.3.8)\n",
      "Note: you may need to restart the kernel to use updated packages.\n"
     ]
    }
   ],
   "source": [
    "%pip install multiprocess"
   ]
  },
  {
   "cell_type": "code",
   "execution_count": 45,
   "metadata": {},
   "outputs": [
    {
     "name": "stdout",
     "output_type": "stream",
     "text": [
      "inputs: [0, 1, 2, 3, 4, 5, 6, 7]\n",
      "num_cores: 4\n",
      "pid 53322 gets task n=0\n",
      "pid 53325 gets task n=3\n",
      "pid 53324 gets task n=2\n",
      "pid 53323 gets task n=1\n",
      "\n",
      "\n",
      "\n",
      "\n",
      "pid 53324 gets task n=4\n",
      "pid 53323 gets task n=5\n",
      "pid 53325 gets task n=6\n",
      "\n",
      "pid 53322 gets task n=7\n",
      "\n",
      "\n",
      "\n",
      "outputs: [0, 1, 4, 9, 16, 25, 36, 49]\n"
     ]
    }
   ],
   "source": [
    "import os\n",
    "import multiprocess as mp\n",
    "\n",
    "inputs = list(range(8))\n",
    "num_cores = 4\n",
    "print('inputs:', inputs)\n",
    "print('num_cores:', num_cores)\n",
    "\n",
    "def square(n):\n",
    "\tprint(f'pid {os.getpid()} gets task n={n}\\n')\n",
    "\tresult = n*n\n",
    "\treturn result\n",
    "\n",
    "pool = mp.Pool(processes = num_cores)\n",
    "results = pool.map(square, inputs)\n",
    "pool.close()\n",
    "pool.join()\n",
    "print('outputs:', results)"
   ]
  },
  {
   "cell_type": "code",
   "execution_count": 46,
   "metadata": {},
   "outputs": [
    {
     "name": "stdout",
     "output_type": "stream",
     "text": [
      "inputs: [0, 1, 2, 3, 4, 5, 6, 7]\n",
      "num_cores: 4\n",
      "pid 53326 gets task n=1\n",
      "pid 53328 gets task n=3\n",
      "pid 53327 gets task n=2\n",
      "pid 53329 gets task n=4\n",
      "\n",
      "\n",
      "\n",
      "\n",
      "spawn task: n= 1\n",
      "spawn task: n= 2\n",
      "spawn task: n= 3\n",
      "spawn task: n= 4\n",
      "outputs: [1, 4, 9, 16]\n"
     ]
    }
   ],
   "source": [
    "import os\n",
    "import multiprocess as mp\n",
    "\n",
    "inputs = list(range(8))\n",
    "num_cores = 4\n",
    "print('inputs:', inputs)\n",
    "print('num_cores:', num_cores)\n",
    "\n",
    "def square(n):\n",
    "\tprint(f'pid {os.getpid()} gets task n={n}\\n')\n",
    "\tresult = n*n\n",
    "\treturn result\n",
    "\n",
    "pool = mp.Pool(processes = num_cores)\n",
    "\n",
    "task_handles = []\n",
    "for i in range(4):\n",
    "\tprint(\"spawn task: n=\", i+1)\n",
    "\tt = pool.apply_async(square, (i+1,))\n",
    "\ttask_handles.append(t)\n",
    "\n",
    "pool.close() # wait for all tasks to finish\n",
    "results = [t.get() for t in task_handles]\n",
    "pool.join()\n",
    "print('outputs:', results)"
   ]
  },
  {
   "cell_type": "markdown",
   "metadata": {},
   "source": [
    "# inter-process communication"
   ]
  },
  {
   "cell_type": "code",
   "execution_count": 86,
   "metadata": {},
   "outputs": [
    {
     "name": "stdout",
     "output_type": "stream",
     "text": [
      "expected: 200000\n",
      "observed: 200000\n"
     ]
    }
   ],
   "source": [
    "import multiprocess as mp\n",
    "\n",
    "def concurrent_update(n, r):\n",
    "\tglobsum = mp.Value('i', 0) # shared memory\n",
    "\tlock = mp.Lock()\n",
    "\n",
    "\tdef worker_function(n, r, global_val, global_lock):\n",
    "\t\tfor i in range(r):\n",
    "\t\t\tinc = sum([1] * n)\n",
    "\n",
    "\t\t\tglobal_lock.acquire() # mutex lock\n",
    "\t\t\tglobal_val.value += inc\n",
    "\t\t\tglobal_lock.release()\n",
    "\n",
    "\tc0 = mp.Process(target=worker_function, args=(n, r, globsum, lock))\n",
    "\tc1 = mp.Process(target=worker_function, args=(n, r, globsum, lock))\n",
    "\tc0.start()\n",
    "\tc1.start()\n",
    "\tc0.join()\n",
    "\tc1.join()\n",
    "\treturn globsum.value\n",
    "\n",
    "n = 10\n",
    "r = 10_000\n",
    "\n",
    "print(\"expected:\", n*r*2)\n",
    "print(\"observed:\", concurrent_update(n, r))"
   ]
  },
  {
   "cell_type": "code",
   "execution_count": 87,
   "metadata": {},
   "outputs": [
    {
     "name": "stdout",
     "output_type": "stream",
     "text": [
      "child 0 sum 10\n",
      "child 1 sum 10\n",
      "child 2 sum 10\n",
      "child 3 sum 10\n",
      "child 4 sum 10\n",
      "child 5 sum 10\n",
      "child 6 sum 10\n",
      "child 7 sum 10\n",
      "child 8 sum 10\n",
      "child 9 sum 10\n"
     ]
    },
    {
     "data": {
      "text/plain": [
       "0"
      ]
     },
     "execution_count": 87,
     "metadata": {},
     "output_type": "execute_result"
    }
   ],
   "source": [
    "import multiprocess as mp\n",
    "import numpy as np\n",
    "import time\n",
    "\n",
    "def write_ordered_function(n, cid, fh, turnid, nchilds):\n",
    "    # do work\n",
    "    inc = sum([1] * n)\n",
    "    out_str = f\"child {cid} sum {inc}\\n\"\n",
    "    \n",
    "\t# wait for turn\n",
    "    while True:\n",
    "        with turnid.get_lock():\n",
    "            if turnid.value == cid:\n",
    "                break\n",
    "        time.sleep(10/1e3)\n",
    "\t\n",
    "    # write to file (one at a time - to prove we are in order)\n",
    "    for i in range(len(out_str)):\n",
    "        fh.write(out_str[i])\n",
    "        fh.flush()\n",
    "        time.sleep(np.random.randint(10, 100)/1e3)\n",
    "\n",
    "    # update turn\n",
    "    with turnid.get_lock():\n",
    "        turnid.value = (turnid.value + 1) % nchilds\n",
    "\n",
    "n = 10\n",
    "nchilds = 10\n",
    "childs = []\n",
    "\n",
    "turnid = mp.Value('i', 0, lock=True)\n",
    "fh = open(\"out.txt\", \"w\")\n",
    "for i in range(nchilds):\n",
    "    ch = mp.Process(target=write_ordered_function, args=(n, i, fh, turnid, nchilds))\n",
    "    childs.append(ch)\n",
    "    ch.start()\n",
    "\n",
    "for ch in childs:\n",
    "    ch.join()\n",
    "fh.close()\n",
    "os.system(\"cat out.txt\")\n",
    "os.system(\"rm -rf out.txt\")"
   ]
  },
  {
   "cell_type": "markdown",
   "metadata": {},
   "source": [
    "_queue types_\n",
    "\n",
    "- `Queue` - regular queue\n",
    "- `JoinableQueue` - queue with `task_done` method. can block until all tasks are done.\n",
    "- `Pipe` - same as `Queue` but with direct connection between two processes. same as linux pipe."
   ]
  },
  {
   "cell_type": "code",
   "execution_count": 88,
   "metadata": {},
   "outputs": [
    {
     "name": "stdout",
     "output_type": "stream",
     "text": [
      "expected:  400000\n",
      "observed:  400000\n"
     ]
    }
   ],
   "source": [
    "import multiprocess as mp\n",
    "\n",
    "\n",
    "def worker_function(taskq, resq):\n",
    "    while True:\n",
    "        t = taskq.get() # use taskq.get(timeout=1) if you don't know how many tasks you have\n",
    "        if t == 'EXIT':\n",
    "            break\n",
    "        n, r = t\n",
    "        randsum = 0\n",
    "        for _ in range(r):\n",
    "            randsum += sum([1] * n)\n",
    "        resq.put(randsum)\n",
    "        taskq.task_done()\n",
    "\n",
    "ncores = 4\n",
    "n = 10\n",
    "r = 10000\n",
    "task_queue = mp.JoinableQueue()\n",
    "result_queue = mp.Queue()\n",
    "\n",
    "workers = []\n",
    "for i in range(ncores):\n",
    "    w = mp.Process(target=worker_function, args=(task_queue, result_queue))\n",
    "    w.start()\n",
    "    workers.append(w)\n",
    "\n",
    "for i in range(ncores):\n",
    "    task_queue.put([n ,r]) # send tasks through queue\n",
    "    task_queue.join() # wait until task_done() was called for each task\n",
    "for i in range(ncores):\n",
    "    task_queue.put(\"EXIT\") # exit while loop in worker\n",
    "task_queue.close()\n",
    "\n",
    "for i in range(ncores):\n",
    "    workers[i].join()\n",
    "\n",
    "globsum = 0\n",
    "while not result_queue.empty():\n",
    "    globsum += result_queue.get()\n",
    "print(\"expected: \", n*r*ncores)\n",
    "print(\"observed: \", globsum)"
   ]
  },
  {
   "cell_type": "code",
   "execution_count": null,
   "metadata": {},
   "outputs": [],
   "source": []
  }
 ],
 "metadata": {
  "kernelspec": {
   "display_name": "Python 3",
   "language": "python",
   "name": "python3"
  },
  "language_info": {
   "codemirror_mode": {
    "name": "ipython",
    "version": 3
   },
   "file_extension": ".py",
   "mimetype": "text/x-python",
   "name": "python",
   "nbconvert_exporter": "python",
   "pygments_lexer": "ipython3",
   "version": "3.11.8"
  }
 },
 "nbformat": 4,
 "nbformat_minor": 2
}
