{
 "cells": [
  {
   "cell_type": "markdown",
   "metadata": {},
   "source": [
    "# parallel R lang\n",
    "\n",
    "_installation_\n",
    "\n",
    "see: https://stackoverflow.com/questions/76158663/r-kernel-on-vscode-jupyter-notebook-not-appearing\n",
    "\n",
    "- make sure R is installed. then run `R` in terminal to open R console\n",
    "- `install.packages('IRkernel')`\n",
    "- `IRkernel::installspec()`\n",
    "- open vscode, open a new `.ipynb` file, select `R` kernel\n",
    "\n",
    "_parallelism_\n",
    "\n",
    "see: https://nceas.github.io/oss-lessons/parallel-computing-in-r/parallel-computing-in-r.html\n",
    "\n",
    "- R is single-threaded by default\n",
    "- for multi-threading, use foreign function interface (FFI) to call C functions\n",
    "- for multi-processing, use `parallel` or similar packages\n"
   ]
  },
  {
   "cell_type": "code",
   "execution_count": 50,
   "metadata": {
    "vscode": {
     "languageId": "r"
    }
   },
   "outputs": [
    {
     "name": "stdout",
     "output_type": "stream",
     "text": [
      "number of cores: 2 \n"
     ]
    },
    {
     "name": "stdout",
     "output_type": "stream",
     "text": [
      "process ids in lapply: 0 0 0 0 0 0 0 0 \n",
      "lapply time: 4.437 \n",
      "process ids in mclapply: 0 1 0 1 0 1 0 1 \n",
      "mclapply time: 2.221 \n",
      "process ids in mclapply (dynamic scheduling): 0 1 2 3 5 6 7 8 \n",
      "mclapply dynamic (scheduling time): 2.254 \n"
     ]
    }
   ],
   "source": [
    "if (!require(pacman)) {\n",
    "  install.packages(pacman, repos = \"http://cran.us.r-project.org\")\n",
    "}\n",
    "library(pacman)\n",
    "pacman::p_load(parallel)\n",
    "\n",
    "wait_times <- c(rep(100, 4), rep(1000, 4))\n",
    "dummy_task <- function(wait_ms) {\n",
    "  Sys.sleep(wait_ms / 1000)\n",
    "  Sys.getpid()\n",
    "}\n",
    "\n",
    "num_cores <- 2\n",
    "cat(\"number of cores:\", num_cores, \"\\n\")\n",
    "\n",
    "# lapply\n",
    "p1 <- proc.time()\n",
    "res <- lapply(wait_times, dummy_task)\n",
    "t <- proc.time() - p1\n",
    "procs <- unlist(res) - min(unlist(res))\n",
    "cat(\"process ids in lapply:\", procs, \"\\n\")\n",
    "cat(\"lapply time:\", t[3], \"\\n\")\n",
    "\n",
    "# mclapply\n",
    "p1 <- proc.time()\n",
    "res <- mclapply(wait_times, dummy_task, mc.cores = num_cores)\n",
    "t <- proc.time() - p1\n",
    "procs <- unlist(res) - min(unlist(res))\n",
    "cat(\"process ids in mclapply:\", procs, \"\\n\")\n",
    "cat(\"mclapply time:\", t[3], \"\\n\")\n",
    "\n",
    "# mclapply dynamic scheduling\n",
    "p1 <- proc.time()\n",
    "res <- mclapply(wait_times, dummy_task, mc.cores = num_cores, mc.preschedule = FALSE)\n",
    "t <- proc.time() - p1\n",
    "procs <- unlist(res) - min(unlist(res))\n",
    "cat(\"process ids in mclapply (dynamic scheduling):\", procs, \"\\n\")\n",
    "cat(\"mclapply dynamic (scheduling time):\", t[3], \"\\n\")"
   ]
  },
  {
   "cell_type": "markdown",
   "metadata": {},
   "source": [
    "_task scheduler_\n",
    "\n",
    "- default scheduler:\n",
    "\t- create as many processes as there are cores. then assign tasks to processes in round-robin fashion.\n",
    "\t- bad load balancing: heavy tasks might be assigned to the same process.\n",
    "\t- fast scheduler: static, simple, no overhead.\n",
    "\n",
    "- dynamic scheduler:\n",
    "\t- create a new process per task.\n",
    "\t- bad if process overhead is larger than task time.\n"
   ]
  },
  {
   "cell_type": "markdown",
   "metadata": {},
   "source": []
  }
 ],
 "metadata": {
  "kernelspec": {
   "display_name": "R",
   "language": "R",
   "name": "ir"
  },
  "language_info": {
   "codemirror_mode": "r",
   "file_extension": ".r",
   "mimetype": "text/x-r-source",
   "name": "R",
   "pygments_lexer": "r",
   "version": "4.3.3"
  }
 },
 "nbformat": 4,
 "nbformat_minor": 2
}
